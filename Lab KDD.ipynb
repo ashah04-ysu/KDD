{
 "cells": [
  {
   "cell_type": "code",
   "execution_count": 84,
   "id": "confused-steering",
   "metadata": {},
   "outputs": [],
   "source": [
    "import numpy as np\n",
    "import pandas as pd\n",
    "from sklearn.tree import DecisionTreeClassifier\n",
    "from sklearn.model_selection import cross_val_score\n",
    "from sklearn.preprocessing import MinMaxScaler\n",
    "from sklearn.ensemble import ExtraTreesClassifier\n",
    "from sklearn.feature_selection import SelectKBest\n",
    "from sklearn.feature_selection import chi2, f_classif,mutual_info_classif\n",
    "import matplotlib.pyplot as plt"
   ]
  },
  {
   "cell_type": "code",
   "execution_count": 85,
   "id": "humanitarian-tribute",
   "metadata": {},
   "outputs": [
    {
     "data": {
      "text/plain": [
       "1    165\n",
       "0    138\n",
       "Name: class, dtype: int64"
      ]
     },
     "execution_count": 85,
     "metadata": {},
     "output_type": "execute_result"
    }
   ],
   "source": [
    "card_df = pd.read_csv(\"CardiologyN-Wekat.csv\")\n",
    "card_df['class'].value_counts()"
   ]
  },
  {
   "cell_type": "code",
   "execution_count": 86,
   "id": "phantom-token",
   "metadata": {},
   "outputs": [
    {
     "data": {
      "text/html": [
       "<div>\n",
       "<style scoped>\n",
       "    .dataframe tbody tr th:only-of-type {\n",
       "        vertical-align: middle;\n",
       "    }\n",
       "\n",
       "    .dataframe tbody tr th {\n",
       "        vertical-align: top;\n",
       "    }\n",
       "\n",
       "    .dataframe thead th {\n",
       "        text-align: right;\n",
       "    }\n",
       "</style>\n",
       "<table border=\"1\" class=\"dataframe\">\n",
       "  <thead>\n",
       "    <tr style=\"text-align: right;\">\n",
       "      <th></th>\n",
       "      <th>age</th>\n",
       "      <th>sex</th>\n",
       "      <th>chest-pain-type</th>\n",
       "      <th>blood-pressure</th>\n",
       "      <th>cholesterol</th>\n",
       "      <th>Fasting-blood-sugar&lt;120</th>\n",
       "      <th>resting-ecg</th>\n",
       "      <th>maximum-heart-rate</th>\n",
       "      <th>angina</th>\n",
       "      <th>peak</th>\n",
       "      <th>slope</th>\n",
       "      <th>#colored-vessels</th>\n",
       "      <th>thal</th>\n",
       "      <th>class</th>\n",
       "    </tr>\n",
       "  </thead>\n",
       "  <tbody>\n",
       "    <tr>\n",
       "      <th>0</th>\n",
       "      <td>0.645833</td>\n",
       "      <td>1.0</td>\n",
       "      <td>1.000000</td>\n",
       "      <td>0.339623</td>\n",
       "      <td>0.182648</td>\n",
       "      <td>0.0</td>\n",
       "      <td>1.0</td>\n",
       "      <td>0.465649</td>\n",
       "      <td>1.0</td>\n",
       "      <td>0.387097</td>\n",
       "      <td>0.5</td>\n",
       "      <td>0.666667</td>\n",
       "      <td>1.0</td>\n",
       "      <td>0.0</td>\n",
       "    </tr>\n",
       "    <tr>\n",
       "      <th>1</th>\n",
       "      <td>0.416667</td>\n",
       "      <td>1.0</td>\n",
       "      <td>0.333333</td>\n",
       "      <td>0.339623</td>\n",
       "      <td>0.319635</td>\n",
       "      <td>0.0</td>\n",
       "      <td>0.0</td>\n",
       "      <td>0.763359</td>\n",
       "      <td>0.0</td>\n",
       "      <td>0.096774</td>\n",
       "      <td>0.0</td>\n",
       "      <td>0.000000</td>\n",
       "      <td>0.0</td>\n",
       "      <td>1.0</td>\n",
       "    </tr>\n",
       "    <tr>\n",
       "      <th>2</th>\n",
       "      <td>0.729167</td>\n",
       "      <td>1.0</td>\n",
       "      <td>0.000000</td>\n",
       "      <td>0.150943</td>\n",
       "      <td>0.194064</td>\n",
       "      <td>0.0</td>\n",
       "      <td>1.0</td>\n",
       "      <td>0.557252</td>\n",
       "      <td>1.0</td>\n",
       "      <td>0.290323</td>\n",
       "      <td>0.5</td>\n",
       "      <td>0.000000</td>\n",
       "      <td>0.0</td>\n",
       "      <td>1.0</td>\n",
       "    </tr>\n",
       "    <tr>\n",
       "      <th>3</th>\n",
       "      <td>0.708333</td>\n",
       "      <td>1.0</td>\n",
       "      <td>1.000000</td>\n",
       "      <td>0.339623</td>\n",
       "      <td>0.292237</td>\n",
       "      <td>0.0</td>\n",
       "      <td>1.0</td>\n",
       "      <td>0.580153</td>\n",
       "      <td>0.0</td>\n",
       "      <td>0.225806</td>\n",
       "      <td>0.5</td>\n",
       "      <td>0.333333</td>\n",
       "      <td>1.0</td>\n",
       "      <td>0.0</td>\n",
       "    </tr>\n",
       "    <tr>\n",
       "      <th>4</th>\n",
       "      <td>0.500000</td>\n",
       "      <td>1.0</td>\n",
       "      <td>1.000000</td>\n",
       "      <td>0.433962</td>\n",
       "      <td>0.175799</td>\n",
       "      <td>1.0</td>\n",
       "      <td>1.0</td>\n",
       "      <td>0.641221</td>\n",
       "      <td>1.0</td>\n",
       "      <td>0.500000</td>\n",
       "      <td>1.0</td>\n",
       "      <td>0.000000</td>\n",
       "      <td>1.0</td>\n",
       "      <td>0.0</td>\n",
       "    </tr>\n",
       "    <tr>\n",
       "      <th>...</th>\n",
       "      <td>...</td>\n",
       "      <td>...</td>\n",
       "      <td>...</td>\n",
       "      <td>...</td>\n",
       "      <td>...</td>\n",
       "      <td>...</td>\n",
       "      <td>...</td>\n",
       "      <td>...</td>\n",
       "      <td>...</td>\n",
       "      <td>...</td>\n",
       "      <td>...</td>\n",
       "      <td>...</td>\n",
       "      <td>...</td>\n",
       "      <td>...</td>\n",
       "    </tr>\n",
       "    <tr>\n",
       "      <th>298</th>\n",
       "      <td>0.395833</td>\n",
       "      <td>1.0</td>\n",
       "      <td>0.666667</td>\n",
       "      <td>0.283019</td>\n",
       "      <td>0.294521</td>\n",
       "      <td>1.0</td>\n",
       "      <td>0.0</td>\n",
       "      <td>0.793893</td>\n",
       "      <td>0.0</td>\n",
       "      <td>0.000000</td>\n",
       "      <td>0.0</td>\n",
       "      <td>0.666667</td>\n",
       "      <td>0.0</td>\n",
       "      <td>1.0</td>\n",
       "    </tr>\n",
       "    <tr>\n",
       "      <th>299</th>\n",
       "      <td>0.583333</td>\n",
       "      <td>1.0</td>\n",
       "      <td>1.000000</td>\n",
       "      <td>0.358491</td>\n",
       "      <td>0.184932</td>\n",
       "      <td>0.0</td>\n",
       "      <td>0.0</td>\n",
       "      <td>0.740458</td>\n",
       "      <td>1.0</td>\n",
       "      <td>0.000000</td>\n",
       "      <td>0.0</td>\n",
       "      <td>0.000000</td>\n",
       "      <td>1.0</td>\n",
       "      <td>1.0</td>\n",
       "    </tr>\n",
       "    <tr>\n",
       "      <th>300</th>\n",
       "      <td>0.416667</td>\n",
       "      <td>1.0</td>\n",
       "      <td>0.666667</td>\n",
       "      <td>0.226415</td>\n",
       "      <td>0.052511</td>\n",
       "      <td>0.0</td>\n",
       "      <td>1.0</td>\n",
       "      <td>0.419847</td>\n",
       "      <td>0.0</td>\n",
       "      <td>0.129032</td>\n",
       "      <td>0.0</td>\n",
       "      <td>1.000000</td>\n",
       "      <td>0.0</td>\n",
       "      <td>0.0</td>\n",
       "    </tr>\n",
       "    <tr>\n",
       "      <th>301</th>\n",
       "      <td>0.937500</td>\n",
       "      <td>0.0</td>\n",
       "      <td>0.333333</td>\n",
       "      <td>0.245283</td>\n",
       "      <td>0.326484</td>\n",
       "      <td>0.0</td>\n",
       "      <td>1.0</td>\n",
       "      <td>0.381679</td>\n",
       "      <td>1.0</td>\n",
       "      <td>0.032258</td>\n",
       "      <td>0.0</td>\n",
       "      <td>0.333333</td>\n",
       "      <td>0.0</td>\n",
       "      <td>1.0</td>\n",
       "    </tr>\n",
       "    <tr>\n",
       "      <th>302</th>\n",
       "      <td>0.520833</td>\n",
       "      <td>0.0</td>\n",
       "      <td>0.666667</td>\n",
       "      <td>0.622642</td>\n",
       "      <td>0.171233</td>\n",
       "      <td>0.0</td>\n",
       "      <td>0.0</td>\n",
       "      <td>0.702290</td>\n",
       "      <td>0.0</td>\n",
       "      <td>0.000000</td>\n",
       "      <td>0.0</td>\n",
       "      <td>0.333333</td>\n",
       "      <td>0.0</td>\n",
       "      <td>1.0</td>\n",
       "    </tr>\n",
       "  </tbody>\n",
       "</table>\n",
       "<p>303 rows × 14 columns</p>\n",
       "</div>"
      ],
      "text/plain": [
       "          age  sex  chest-pain-type  blood-pressure  cholesterol  \\\n",
       "0    0.645833  1.0         1.000000        0.339623     0.182648   \n",
       "1    0.416667  1.0         0.333333        0.339623     0.319635   \n",
       "2    0.729167  1.0         0.000000        0.150943     0.194064   \n",
       "3    0.708333  1.0         1.000000        0.339623     0.292237   \n",
       "4    0.500000  1.0         1.000000        0.433962     0.175799   \n",
       "..        ...  ...              ...             ...          ...   \n",
       "298  0.395833  1.0         0.666667        0.283019     0.294521   \n",
       "299  0.583333  1.0         1.000000        0.358491     0.184932   \n",
       "300  0.416667  1.0         0.666667        0.226415     0.052511   \n",
       "301  0.937500  0.0         0.333333        0.245283     0.326484   \n",
       "302  0.520833  0.0         0.666667        0.622642     0.171233   \n",
       "\n",
       "     Fasting-blood-sugar<120  resting-ecg  maximum-heart-rate  angina  \\\n",
       "0                        0.0          1.0            0.465649     1.0   \n",
       "1                        0.0          0.0            0.763359     0.0   \n",
       "2                        0.0          1.0            0.557252     1.0   \n",
       "3                        0.0          1.0            0.580153     0.0   \n",
       "4                        1.0          1.0            0.641221     1.0   \n",
       "..                       ...          ...                 ...     ...   \n",
       "298                      1.0          0.0            0.793893     0.0   \n",
       "299                      0.0          0.0            0.740458     1.0   \n",
       "300                      0.0          1.0            0.419847     0.0   \n",
       "301                      0.0          1.0            0.381679     1.0   \n",
       "302                      0.0          0.0            0.702290     0.0   \n",
       "\n",
       "         peak  slope  #colored-vessels  thal  class  \n",
       "0    0.387097    0.5          0.666667   1.0    0.0  \n",
       "1    0.096774    0.0          0.000000   0.0    1.0  \n",
       "2    0.290323    0.5          0.000000   0.0    1.0  \n",
       "3    0.225806    0.5          0.333333   1.0    0.0  \n",
       "4    0.500000    1.0          0.000000   1.0    0.0  \n",
       "..        ...    ...               ...   ...    ...  \n",
       "298  0.000000    0.0          0.666667   0.0    1.0  \n",
       "299  0.000000    0.0          0.000000   1.0    1.0  \n",
       "300  0.129032    0.0          1.000000   0.0    0.0  \n",
       "301  0.032258    0.0          0.333333   0.0    1.0  \n",
       "302  0.000000    0.0          0.333333   0.0    1.0  \n",
       "\n",
       "[303 rows x 14 columns]"
      ]
     },
     "execution_count": 86,
     "metadata": {},
     "output_type": "execute_result"
    }
   ],
   "source": [
    "col = card_df.columns\n",
    "scaler = MinMaxScaler()\n",
    "scaler.fit(card_df)\n",
    "scaled_np = scaler.transform(card_df)\n",
    "scaled_df = pd.DataFrame(scaled_np)\n",
    "scaled_df.columns = col\n",
    "scaled_df"
   ]
  },
  {
   "cell_type": "code",
   "execution_count": 87,
   "id": "comprehensive-gilbert",
   "metadata": {},
   "outputs": [
    {
     "name": "stdout",
     "output_type": "stream",
     "text": [
      "0.7284946236559139 0.09198577508953756\n"
     ]
    }
   ],
   "source": [
    "y= scaled_df['class']\n",
    "X = scaled_df.drop(['class'], axis = 1)\n",
    "clf = DecisionTreeClassifier(random_state = 0)\n",
    "val_score = cross_val_score(clf, X, y, cv= 10)\n",
    "print(val_score.mean(),val_score.std())"
   ]
  },
  {
   "cell_type": "code",
   "execution_count": 88,
   "id": "completed-weekly",
   "metadata": {},
   "outputs": [
    {
     "name": "stdout",
     "output_type": "stream",
     "text": [
      "0.8216129032258065 0.07214316581733367\n"
     ]
    }
   ],
   "source": [
    "forest = ExtraTreesClassifier(n_estimators = 25,random_state=0)\n",
    "val_score = cross_val_score(forest, X, y, cv= 10)\n",
    "print(val_score.mean(),val_score.std())"
   ]
  },
  {
   "cell_type": "code",
   "execution_count": 89,
   "id": "found-batch",
   "metadata": {},
   "outputs": [
    {
     "data": {
      "text/plain": [
       "array([[1.        , 1.        , 1.        , ..., 0.5       , 0.66666667,\n",
       "        1.        ],\n",
       "       [1.        , 0.33333333, 0.        , ..., 0.        , 0.        ,\n",
       "        0.        ],\n",
       "       [1.        , 0.        , 1.        , ..., 0.5       , 0.        ,\n",
       "        0.        ],\n",
       "       ...,\n",
       "       [1.        , 0.66666667, 0.        , ..., 0.        , 1.        ,\n",
       "        0.        ],\n",
       "       [0.        , 0.33333333, 1.        , ..., 0.        , 0.33333333,\n",
       "        0.        ],\n",
       "       [0.        , 0.66666667, 0.        , ..., 0.        , 0.33333333,\n",
       "        0.        ]])"
      ]
     },
     "execution_count": 89,
     "metadata": {},
     "output_type": "execute_result"
    }
   ],
   "source": [
    "X_new = SelectKBest(chi2, k=7).fit_transform(X,y)\n",
    "#X_new.shape\n",
    "X_new"
   ]
  },
  {
   "cell_type": "code",
   "execution_count": 90,
   "id": "directed-atlantic",
   "metadata": {},
   "outputs": [
    {
     "name": "stdout",
     "output_type": "stream",
     "text": [
      "0.7518279569892472 0.09677275984601073\n"
     ]
    }
   ],
   "source": [
    "val_score = cross_val_score(clf, X_new, y, cv= 10)\n",
    "print(val_score.mean(),val_score.std())"
   ]
  },
  {
   "cell_type": "code",
   "execution_count": 91,
   "id": "authentic-barrier",
   "metadata": {},
   "outputs": [
    {
     "name": "stdout",
     "output_type": "stream",
     "text": [
      "0.8082795698924732 0.07172623342257498\n"
     ]
    }
   ],
   "source": [
    "val_score = cross_val_score(forest, X_new, y, cv= 10)\n",
    "print(val_score.mean(),val_score.std())"
   ]
  },
  {
   "cell_type": "code",
   "execution_count": 92,
   "id": "angry-scholarship",
   "metadata": {},
   "outputs": [
    {
     "name": "stdout",
     "output_type": "stream",
     "text": [
      "Feature ranking:\n",
      "1. feature thal (0.162457)\n",
      "2. feature #colored-vessels (0.141236)\n",
      "3. feature chest-pain-type (0.121296)\n",
      "4. feature peak (0.090071)\n",
      "5. feature maximum-heart-rate (0.079244)\n",
      "6. feature angina (0.072200)\n",
      "7. feature age (0.069743)\n",
      "8. feature cholesterol (0.059903)\n",
      "9. feature blood-pressure (0.053414)\n",
      "10. feature slope (0.051281)\n",
      "11. feature sex (0.042853)\n",
      "12. feature resting-ecg (0.035848)\n",
      "13. feature Fasting-blood-sugar<120 (0.020455)\n"
     ]
    },
    {
     "data": {
      "image/png": "[encoded data removed]",
      "text/plain": [
       "<Figure size 432x288 with 1 Axes>"
      ]
     },
     "metadata": {
      "needs_background": "light"
     },
     "output_type": "display_data"
    }
   ],
   "source": [
    "forest.fit(X, y)\n",
    "importances = forest.feature_importances_\n",
    "std = np.std([tree.feature_importances_ for tree in forest.estimators_],\n",
    "             axis=0)\n",
    "indices = np.argsort(importances)[::-1]\n",
    "\n",
    "# Print the feature ranking\n",
    "print(\"Feature ranking:\")\n",
    "\n",
    "for f in range(X.shape[1]):\n",
    "    print(\"%d. feature %s (%f)\" % (f + 1, X.columns[indices[f]], importances[indices[f]]))\n",
    "\n",
    "# Plot the impurity-based feature importances of the forest\n",
    "plt.figure()\n",
    "plt.title(\"Feature importances\")\n",
    "plt.bar(range(X.shape[1]), importances[indices],\n",
    "        color=\"r\", yerr=std[indices], align=\"center\")\n",
    "plt.xticks(range(X.shape[1]), indices)\n",
    "plt.xlim([-1, X.shape[1]])\n",
    "plt.show()"
   ]
  },
  {
   "cell_type": "code",
   "execution_count": 93,
   "id": "detected-owner",
   "metadata": {},
   "outputs": [
    {
     "data": {
      "text/plain": [
       "Index(['age', 'sex', 'chest-pain-type', 'blood-pressure', 'cholesterol',\n",
       "       'Fasting-blood-sugar<120', 'resting-ecg', 'maximum-heart-rate',\n",
       "       'angina', 'peak', 'slope', '#colored-vessels', 'thal'],\n",
       "      dtype='object')"
      ]
     },
     "execution_count": 93,
     "metadata": {},
     "output_type": "execute_result"
    }
   ],
   "source": [
    "X.columns"
   ]
  },
  {
   "cell_type": "code",
   "execution_count": 94,
   "id": "virtual-forum",
   "metadata": {
    "scrolled": true
   },
   "outputs": [
    {
     "data": {
      "text/html": [
       "<div>\n",
       "<style scoped>\n",
       "    .dataframe tbody tr th:only-of-type {\n",
       "        vertical-align: middle;\n",
       "    }\n",
       "\n",
       "    .dataframe tbody tr th {\n",
       "        vertical-align: top;\n",
       "    }\n",
       "\n",
       "    .dataframe thead th {\n",
       "        text-align: right;\n",
       "    }\n",
       "</style>\n",
       "<table border=\"1\" class=\"dataframe\">\n",
       "  <thead>\n",
       "    <tr style=\"text-align: right;\">\n",
       "      <th></th>\n",
       "      <th>thal</th>\n",
       "      <th>#colored-vessels</th>\n",
       "      <th>chest-pain-type</th>\n",
       "      <th>peak</th>\n",
       "      <th>maximum-heart-rate</th>\n",
       "      <th>angina</th>\n",
       "      <th>age</th>\n",
       "    </tr>\n",
       "  </thead>\n",
       "  <tbody>\n",
       "    <tr>\n",
       "      <th>0</th>\n",
       "      <td>1.0</td>\n",
       "      <td>0.666667</td>\n",
       "      <td>1.000000</td>\n",
       "      <td>0.387097</td>\n",
       "      <td>0.465649</td>\n",
       "      <td>1.0</td>\n",
       "      <td>0.645833</td>\n",
       "    </tr>\n",
       "    <tr>\n",
       "      <th>1</th>\n",
       "      <td>0.0</td>\n",
       "      <td>0.000000</td>\n",
       "      <td>0.333333</td>\n",
       "      <td>0.096774</td>\n",
       "      <td>0.763359</td>\n",
       "      <td>0.0</td>\n",
       "      <td>0.416667</td>\n",
       "    </tr>\n",
       "    <tr>\n",
       "      <th>2</th>\n",
       "      <td>0.0</td>\n",
       "      <td>0.000000</td>\n",
       "      <td>0.000000</td>\n",
       "      <td>0.290323</td>\n",
       "      <td>0.557252</td>\n",
       "      <td>1.0</td>\n",
       "      <td>0.729167</td>\n",
       "    </tr>\n",
       "    <tr>\n",
       "      <th>3</th>\n",
       "      <td>1.0</td>\n",
       "      <td>0.333333</td>\n",
       "      <td>1.000000</td>\n",
       "      <td>0.225806</td>\n",
       "      <td>0.580153</td>\n",
       "      <td>0.0</td>\n",
       "      <td>0.708333</td>\n",
       "    </tr>\n",
       "    <tr>\n",
       "      <th>4</th>\n",
       "      <td>1.0</td>\n",
       "      <td>0.000000</td>\n",
       "      <td>1.000000</td>\n",
       "      <td>0.500000</td>\n",
       "      <td>0.641221</td>\n",
       "      <td>1.0</td>\n",
       "      <td>0.500000</td>\n",
       "    </tr>\n",
       "    <tr>\n",
       "      <th>...</th>\n",
       "      <td>...</td>\n",
       "      <td>...</td>\n",
       "      <td>...</td>\n",
       "      <td>...</td>\n",
       "      <td>...</td>\n",
       "      <td>...</td>\n",
       "      <td>...</td>\n",
       "    </tr>\n",
       "    <tr>\n",
       "      <th>298</th>\n",
       "      <td>0.0</td>\n",
       "      <td>0.666667</td>\n",
       "      <td>0.666667</td>\n",
       "      <td>0.000000</td>\n",
       "      <td>0.793893</td>\n",
       "      <td>0.0</td>\n",
       "      <td>0.395833</td>\n",
       "    </tr>\n",
       "    <tr>\n",
       "      <th>299</th>\n",
       "      <td>1.0</td>\n",
       "      <td>0.000000</td>\n",
       "      <td>1.000000</td>\n",
       "      <td>0.000000</td>\n",
       "      <td>0.740458</td>\n",
       "      <td>1.0</td>\n",
       "      <td>0.583333</td>\n",
       "    </tr>\n",
       "    <tr>\n",
       "      <th>300</th>\n",
       "      <td>0.0</td>\n",
       "      <td>1.000000</td>\n",
       "      <td>0.666667</td>\n",
       "      <td>0.129032</td>\n",
       "      <td>0.419847</td>\n",
       "      <td>0.0</td>\n",
       "      <td>0.416667</td>\n",
       "    </tr>\n",
       "    <tr>\n",
       "      <th>301</th>\n",
       "      <td>0.0</td>\n",
       "      <td>0.333333</td>\n",
       "      <td>0.333333</td>\n",
       "      <td>0.032258</td>\n",
       "      <td>0.381679</td>\n",
       "      <td>1.0</td>\n",
       "      <td>0.937500</td>\n",
       "    </tr>\n",
       "    <tr>\n",
       "      <th>302</th>\n",
       "      <td>0.0</td>\n",
       "      <td>0.333333</td>\n",
       "      <td>0.666667</td>\n",
       "      <td>0.000000</td>\n",
       "      <td>0.702290</td>\n",
       "      <td>0.0</td>\n",
       "      <td>0.520833</td>\n",
       "    </tr>\n",
       "  </tbody>\n",
       "</table>\n",
       "<p>303 rows × 7 columns</p>\n",
       "</div>"
      ],
      "text/plain": [
       "     thal  #colored-vessels  chest-pain-type      peak  maximum-heart-rate  \\\n",
       "0     1.0          0.666667         1.000000  0.387097            0.465649   \n",
       "1     0.0          0.000000         0.333333  0.096774            0.763359   \n",
       "2     0.0          0.000000         0.000000  0.290323            0.557252   \n",
       "3     1.0          0.333333         1.000000  0.225806            0.580153   \n",
       "4     1.0          0.000000         1.000000  0.500000            0.641221   \n",
       "..    ...               ...              ...       ...                 ...   \n",
       "298   0.0          0.666667         0.666667  0.000000            0.793893   \n",
       "299   1.0          0.000000         1.000000  0.000000            0.740458   \n",
       "300   0.0          1.000000         0.666667  0.129032            0.419847   \n",
       "301   0.0          0.333333         0.333333  0.032258            0.381679   \n",
       "302   0.0          0.333333         0.666667  0.000000            0.702290   \n",
       "\n",
       "     angina       age  \n",
       "0       1.0  0.645833  \n",
       "1       0.0  0.416667  \n",
       "2       1.0  0.729167  \n",
       "3       0.0  0.708333  \n",
       "4       1.0  0.500000  \n",
       "..      ...       ...  \n",
       "298     0.0  0.395833  \n",
       "299     1.0  0.583333  \n",
       "300     0.0  0.416667  \n",
       "301     1.0  0.937500  \n",
       "302     0.0  0.520833  \n",
       "\n",
       "[303 rows x 7 columns]"
      ]
     },
     "execution_count": 94,
     "metadata": {},
     "output_type": "execute_result"
    }
   ],
   "source": [
    "X_new = X[['thal','#colored-vessels','chest-pain-type','peak','maximum-heart-rate','angina','age']]\n",
    "X_new"
   ]
  },
  {
   "cell_type": "code",
   "execution_count": 95,
   "id": "italic-compression",
   "metadata": {},
   "outputs": [
    {
     "name": "stdout",
     "output_type": "stream",
     "text": [
      "0.725268817204301 0.08965478943988954\n"
     ]
    }
   ],
   "source": [
    "val_score = cross_val_score(clf, X_new, y, cv= 10)\n",
    "print(val_score.mean(),val_score.std())"
   ]
  },
  {
   "cell_type": "code",
   "execution_count": 96,
   "id": "macro-accreditation",
   "metadata": {},
   "outputs": [
    {
     "name": "stdout",
     "output_type": "stream",
     "text": [
      "0.8216129032258064 0.09095839958127996\n"
     ]
    }
   ],
   "source": [
    "val_score = cross_val_score(forest, X_new, y, cv= 10)\n",
    "print(val_score.mean(),val_score.std())"
   ]
  },
  {
   "cell_type": "code",
   "execution_count": null,
   "id": "fantastic-assignment",
   "metadata": {},
   "outputs": [],
   "source": [
    "#Extra trees Classifier is best"
   ]
  }
 ],
 "metadata": {
  "kernelspec": {
   "display_name": "Python [conda env:ds1] *",
   "language": "python",
   "name": "conda-env-ds1-py"
  },
  "language_info": {
   "codemirror_mode": {
    "name": "ipython",
    "version": 3
   },
   "file_extension": ".py",
   "mimetype": "text/x-python",
   "name": "python",
   "nbconvert_exporter": "python",
   "pygments_lexer": "ipython3",
   "version": "3.8.6"
  }
 },
 "nbformat": 4,
 "nbformat_minor": 5
}
